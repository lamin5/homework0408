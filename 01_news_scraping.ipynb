{
 "cells": [
  {
   "cell_type": "code",
   "execution_count": 2,
   "id": "10983580",
   "metadata": {},
   "outputs": [
    {
     "name": "stdout",
     "output_type": "stream",
     "text": [
      "Name: requests\n",
      "Version: 2.32.3\n",
      "Summary: Python HTTP for Humans.\n",
      "Home-page: https://requests.readthedocs.io\n",
      "Author: Kenneth Reitz\n",
      "Author-email: me@kennethreitz.org\n",
      "License: Apache-2.0\n",
      "Location: c:\\Users\\user\\anaconda3\\Lib\\site-packages\n",
      "Requires: certifi, charset-normalizer, idna, urllib3\n",
      "Required-by: anaconda-catalogs, anaconda-client, anaconda-cloud-auth, anaconda-project, conda, conda-build, conda-repo-cli, conda_package_streaming, cookiecutter, datashader, jupyterlab_server, panel, PyGithub, requests-file, requests-toolbelt, Sphinx, streamlit, tldextract\n",
      "Note: you may need to restart the kernel to use updated packages.\n"
     ]
    }
   ],
   "source": [
    "%pip show requests"
   ]
  },
  {
   "cell_type": "code",
   "execution_count": 3,
   "id": "415fba44",
   "metadata": {},
   "outputs": [
    {
     "name": "stdout",
     "output_type": "stream",
     "text": [
      "Name: beautifulsoup4\n",
      "Version: 4.12.3\n",
      "Summary: Screen-scraping library\n",
      "Home-page: https://www.crummy.com/software/BeautifulSoup/bs4/\n",
      "Author: \n",
      "Author-email: Leonard Richardson <leonardr@segfault.org>\n",
      "License: MIT License\n",
      "Location: c:\\Users\\user\\anaconda3\\Lib\\site-packages\n",
      "Requires: soupsieve\n",
      "Required-by: conda-build, nbconvert\n",
      "Note: you may need to restart the kernel to use updated packages.\n"
     ]
    }
   ],
   "source": [
    "%pip show beautifulsoup4"
   ]
  },
  {
   "cell_type": "code",
   "execution_count": 4,
   "id": "9341d2cc",
   "metadata": {},
   "outputs": [],
   "source": [
    "import requests\n",
    "import bs4\n",
    "from bs4 import BeautifulSoup\n"
   ]
  },
  {
   "cell_type": "code",
   "execution_count": 5,
   "id": "845c7cfd",
   "metadata": {},
   "outputs": [
    {
     "name": "stdout",
     "output_type": "stream",
     "text": [
      "requests 버전2.32.3\n",
      "beautifulsoup4 버전4.12.3\n"
     ]
    }
   ],
   "source": [
    "print(f'requests 버전{requests.__version__}')\n",
    "print(f'beautifulsoup4 버전{bs4.__version__}')"
   ]
  },
  {
   "cell_type": "code",
   "execution_count": 40,
   "id": "8fa59e09",
   "metadata": {},
   "outputs": [
    {
     "name": "stdout",
     "output_type": "stream",
     "text": [
      "https://news.daum.net/economy\n",
      "<Response [200]>\n",
      "<class 'requests.models.Response'>\n",
      "200\n",
      "https://v.daum.net/v/20250408171205288 이러다 진짜 전쟁...트럼프 '104% 관세'에 끝까지 싸운다는 中 [데일리 아시아]\n",
      "https://v.daum.net/v/20250408161553109 트럼프발 주가폭락에 동아 \"경제적 핵전쟁\" 조선 \"금융위기 후 최악\"\n",
      "https://v.daum.net/v/20250408160526681 공황과 격변의 판도라 박스가 열리다\n",
      "https://v.daum.net/v/20250408154329660 해외서 발 뺀 이중항체, 韓 기업들이 이끈다\n",
      "https://v.daum.net/v/20250408153003030 탄핵 끝났는데 韓경제 ‘봄’은 언제 오나…박근혜 때와 다른 이유\n",
      "https://v.daum.net/v/20250408152923007 경상수지 흑자행진에도… 한은 “美 관세에 불확실성 확대”\n",
      "https://v.daum.net/v/20250408144527816 국제유가 하락에 흔들리는 정유업계…실적 먹구름 짙어진다\n",
      "https://v.daum.net/v/20250408140753767 조양호 한진그룹 선대회장 6주기… ‘45년 항공산업’ 리더십 재조명\n",
      "https://v.daum.net/v/20250408140302580 미국 최대 은행이 \"여성 경영인이 경제 원동력\"이라 말한 이유\n"
     ]
    }
   ],
   "source": [
    "# IT/과학 뉴스\n",
    "req_param = {\"sid\": 'economy'}\n",
    "#\n",
    "url = \"https://news.daum.net/{sid}\".format(**req_param)\n",
    "print(url)\n",
    "\n",
    "# 요청 헤더 설정 : 브라우저 정보\n",
    "req_header = {\n",
    "    \"user-agent\": \"Mozilla/5.0 (Windows NT 10.0; Win64; x64) AppleWebKit/537.36 (KHTML, like Gecko) Chrome/135.0.0.0 Safari/537.36\"\n",
    "}\n",
    "\n",
    "# requests 의 get() 함수 호출하기\n",
    "res = requests.get(url, headers=req_header)\n",
    "res.encoding = 'utf-8'\n",
    "print(res)\n",
    "print(type(res))\n",
    "print(res.status_code)\n",
    "\n",
    "# 응답(response)이 OK 이면\n",
    "if res.ok:\n",
    "    # 응답 (response)에서 text 추출 -source 보기\n",
    "    html = res.text\n",
    "    # print(html)\n",
    "    # BeautifulSoup 객체 생성\n",
    "    soup = BeautifulSoup(html, \"html.parser\")\n",
    "    # print(soup)\n",
    "    # CSS 선택자\n",
    "    # <div class='sa_text'><a></a></div>\n",
    "    \n",
    "    # print(soup.select(\"div.sa_text a[href*='mnews/article']\"))\n",
    "\n",
    "    # <a> 태그 리스트 순회하기\n",
    "    for li_tag in soup.select('ul.list_newsheadline2 li'):\n",
    "        a_tag = li_tag.find('a')\n",
    "        link = a_tag['href']\n",
    "        \n",
    "        strong_tag = li_tag.select_one('div.cont_thumb strong.tit_txt')\n",
    "        title = strong_tag.text.strip()\n",
    "        print(link, title)\n",
    "    \n",
    "else:\n",
    "    # 응답(response)이 Error 이면 status code 출력\n",
    "    print(f\"Error code = {res.status_code}\")"
   ]
  },
  {
   "cell_type": "code",
   "execution_count": 66,
   "id": "ef857cb7",
   "metadata": {},
   "outputs": [],
   "source": [
    "import requests\n",
    "import bs4\n",
    "from bs4 import BeautifulSoup\n",
    "\n",
    "section_dict = {\n",
    "    '기후/환경':'climate',\n",
    "    '사회':'society',\n",
    "    '경제':'economy',\n",
    "    '정치':'politics',    \n",
    "    '국재':'world',\n",
    "    '문화':'culture',\n",
    "    '생활':'life',\n",
    "    'IT/과학':'tech',\n",
    "    '인물':'people'}\n",
    "\n",
    "\n",
    "def print_news(section_name):\n",
    "    # IT/과학 뉴스\n",
    "    section = section_dict[section_name]\n",
    "    req_param = {\"section_name\": section_name}\n",
    "    #\n",
    "    url = \"https://news.daum.net/{}\".format(section)\n",
    "    print(f\"=====> {url} {req_param} 뉴스 <=====\")\n",
    "\n",
    "    # 요청 헤더 설정 : 브라우저 정보\n",
    "    req_header = {\n",
    "        \"user-agent\": \"Mozilla/5.0 (Windows NT 10.0; Win64; x64) AppleWebKit/537.36 (KHTML, like Gecko) Chrome/135.0.0.0 Safari/537.36\"\n",
    "    }\n",
    "\n",
    "    # requests 의 get() 함수 호출하기\n",
    "    res = requests.get(url, headers=req_header)\n",
    "    res.encoding = \"utf-8\"\n",
    "    print(res)\n",
    "    print(type(res))\n",
    "    print(res.status_code)\n",
    "\n",
    "    # 응답(response)이 OK 이면\n",
    "    if res.ok:\n",
    "        # 응답 (response)에서 text 추출 -source 보기\n",
    "        html = res.text\n",
    "        # print(html)\n",
    "        # BeautifulSoup 객체 생성\n",
    "        soup = BeautifulSoup(html, \"html.parser\")\n",
    "        # print(soup)\n",
    "        # CSS 선택자\n",
    "        # <div class='sa_text'><a></a></div>\n",
    "\n",
    "        # print(soup.select(\"div.sa_text a[href*='mnews/article']\"))\n",
    "\n",
    "        # <a> 태그 리스트 순회하기\n",
    "        for li_tag in soup.select(\"ul.list_newsheadline2 li\"):\n",
    "            a_tag = li_tag.find(\"a\")\n",
    "            link = a_tag[\"href\"]\n",
    "\n",
    "            strong_tag = li_tag.select_one(\"div.cont_thumb strong.tit_txt\")\n",
    "            title = strong_tag.text.strip()\n",
    "            print(link, title)\n",
    "\n",
    "    else:\n",
    "        # 응답(response)이 Error 이면 status code 출력\n",
    "        print(f\"Error code = {res.status_code}\")\n"
   ]
  },
  {
   "cell_type": "code",
   "execution_count": 67,
   "id": "5fa8318a",
   "metadata": {},
   "outputs": [
    {
     "name": "stdout",
     "output_type": "stream",
     "text": [
      "=====> https://news.daum.net/economy {'section_name': '경제'} 뉴스 <=====\n",
      "<Response [200]>\n",
      "<class 'requests.models.Response'>\n",
      "200\n",
      "https://v.daum.net/v/20250408175111585 나랏빚 1175조 '역대 최대'…추경 재원 바닥\n",
      "https://v.daum.net/v/20250408174344325 메디젠휴먼케어, \"23andMe 파산..한국 유전체 산업의 위기 아닌 기회\"\n",
      "https://v.daum.net/v/20250408174234298 돈 쓸곳 많은데···나라살림 적자 또 100조 넘어\n",
      "https://v.daum.net/v/20250408173713085 칩 확보서 데이터센터까지···전 산업에 'AI 고속도로' 깔아야\n",
      "https://v.daum.net/v/20250408173626057 77년 묵은 정부조직, 데이터 중심 대수술···'AI 부총리' 도입을\n",
      "https://v.daum.net/v/20250408172845794 [이슈ON] 마은혁 받고 '윤 절친' 이완규 투입...한덕수는 왜?\n",
      "https://v.daum.net/v/20250408161553109 트럼프발 주가폭락에 동아 \"경제적 핵전쟁\" 조선 \"금융위기 후 최악\"\n",
      "https://v.daum.net/v/20250408160526681 공황과 격변의 판도라 박스가 열리다\n",
      "https://v.daum.net/v/20250408154329660 해외서 발 뺀 이중항체, 韓 기업들이 이끈다\n",
      "=====> https://news.daum.net/society {'section_name': '사회'} 뉴스 <=====\n",
      "<Response [200]>\n",
      "<class 'requests.models.Response'>\n",
      "200\n",
      "https://v.daum.net/v/20250408175406680 신동호 EBS 사장 임명 효력정지… '2인 방통위' 또 제동\n",
      "https://v.daum.net/v/20250408175110584 노인 간병, 이젠 AI가 효자 노릇할 것\n",
      "https://v.daum.net/v/20250408174205281 \"법무부는 이주노동자에 대한 인간사냥 중단하라\"\n",
      "https://v.daum.net/v/20250408173904152 재선 노린 표심잡기용? 전남도교육청, 조직개편안 놓고 노조 '반발'\n",
      "https://v.daum.net/v/20250408172745766 강호동 농협중앙회장, 인천에서 ‘도시농협’ 제도 개선 방향 논의\n",
      "https://v.daum.net/v/20250408172027551 엇갈린 곽종근과 김현태…‘공익제보자 보호법’ 강화 목소리 커진다\n",
      "https://v.daum.net/v/20250408172004542 이진숙 ‘일하지 말란 거냐’ 강변에 법원은 이렇게 대답했다\n",
      "https://v.daum.net/v/20250408170525058 진실화해위 노조, 조선일보 '인민군 서울대병원 학살' 보도 명예훼손 고발\n",
      "https://v.daum.net/v/20250408165701732 \"창원시 소송 몰아주기 의혹, 행정심판으로 밝히겠다\"\n"
     ]
    }
   ],
   "source": [
    "print_news('경제')\n",
    "print_news('사회')"
   ]
  }
 ],
 "metadata": {
  "kernelspec": {
   "display_name": "base",
   "language": "python",
   "name": "python3"
  },
  "language_info": {
   "codemirror_mode": {
    "name": "ipython",
    "version": 3
   },
   "file_extension": ".py",
   "mimetype": "text/x-python",
   "name": "python",
   "nbconvert_exporter": "python",
   "pygments_lexer": "ipython3",
   "version": "3.12.7"
  }
 },
 "nbformat": 4,
 "nbformat_minor": 5
}
