{
 "cells": [
  {
   "cell_type": "code",
   "execution_count": 2,
   "id": "10983580",
   "metadata": {},
   "outputs": [
    {
     "name": "stdout",
     "output_type": "stream",
     "text": [
      "Name: requests\n",
      "Version: 2.32.3\n",
      "Summary: Python HTTP for Humans.\n",
      "Home-page: https://requests.readthedocs.io\n",
      "Author: Kenneth Reitz\n",
      "Author-email: me@kennethreitz.org\n",
      "License: Apache-2.0\n",
      "Location: c:\\Users\\user\\anaconda3\\Lib\\site-packages\n",
      "Requires: certifi, charset-normalizer, idna, urllib3\n",
      "Required-by: anaconda-catalogs, anaconda-client, anaconda-cloud-auth, anaconda-project, conda, conda-build, conda-repo-cli, conda_package_streaming, cookiecutter, datashader, jupyterlab_server, panel, PyGithub, requests-file, requests-toolbelt, Sphinx, streamlit, tldextract\n",
      "Note: you may need to restart the kernel to use updated packages.\n"
     ]
    }
   ],
   "source": [
    "%pip show requests"
   ]
  },
  {
   "cell_type": "code",
   "execution_count": 3,
   "id": "415fba44",
   "metadata": {},
   "outputs": [
    {
     "name": "stdout",
     "output_type": "stream",
     "text": [
      "Name: beautifulsoup4\n",
      "Version: 4.12.3\n",
      "Summary: Screen-scraping library\n",
      "Home-page: https://www.crummy.com/software/BeautifulSoup/bs4/\n",
      "Author: \n",
      "Author-email: Leonard Richardson <leonardr@segfault.org>\n",
      "License: MIT License\n",
      "Location: c:\\Users\\user\\anaconda3\\Lib\\site-packages\n",
      "Requires: soupsieve\n",
      "Required-by: conda-build, nbconvert\n",
      "Note: you may need to restart the kernel to use updated packages.\n"
     ]
    }
   ],
   "source": [
    "%pip show beautifulsoup4"
   ]
  },
  {
   "cell_type": "code",
   "execution_count": 4,
   "id": "9341d2cc",
   "metadata": {},
   "outputs": [],
   "source": [
    "import requests\n",
    "import bs4\n",
    "from bs4 import BeautifulSoup\n"
   ]
  },
  {
   "cell_type": "code",
   "execution_count": 5,
   "id": "845c7cfd",
   "metadata": {},
   "outputs": [
    {
     "name": "stdout",
     "output_type": "stream",
     "text": [
      "requests 버전2.32.3\n",
      "beautifulsoup4 버전4.12.3\n"
     ]
    }
   ],
   "source": [
    "print(f'requests 버전{requests.__version__}')\n",
    "print(f'beautifulsoup4 버전{bs4.__version__}')"
   ]
  },
  {
   "cell_type": "code",
   "execution_count": 42,
   "id": "8fa59e09",
   "metadata": {},
   "outputs": [
    {
     "name": "stdout",
     "output_type": "stream",
     "text": [
      "https://news.daum.net/economy\n",
      "<class 'requests.models.Response'>\n",
      "200\n",
      "<class 'bs4.element.ResultSet'> 9\n",
      "https://v.daum.net/v/20250408205853462 가성비로 무장한 단체, 다시 제주로 간다” 수학여행부터 대만 인센티브까지.. ‘단체관광’이 살리는 제주\n",
      "https://v.daum.net/v/20250408204335126 부동산 경기 활성화와 가계 부채 억제 사이, 새 정부 선택은?[정준호의 부동산과 사회경제]\n",
      "https://v.daum.net/v/20250408184905360 ‘관세 직격탄’ 애플 주가 19% ‘뚝’… 갈수록 커지는 ‘T공포’ [관세전쟁 후폭풍]\n",
      "https://v.daum.net/v/20250408183514025 미·중 치킨게임…원화값 1473원대 추락, 글로벌 금융위기 후 최저\n",
      "https://v.daum.net/v/20250408175343664 美·中 관세 폭탄 돌리기…‘새우등’ 한국 경제 불안감 더 커졌다\n",
      "https://v.daum.net/v/20250408175111585 나랏빚 1175조 '역대 최대'…추경 재원 바닥\n",
      "https://v.daum.net/v/20250408174344325 메디젠휴먼케어, \"23andMe 파산..한국 유전체 산업의 위기 아닌 기회\"\n",
      "https://v.daum.net/v/20250408173713085 칩 확보서 데이터센터까지···전 산업에 'AI 고속도로' 깔아야\n",
      "https://v.daum.net/v/20250408173626057 77년 묵은 정부조직, 데이터 중심 대수술···'AI 부총리' 도입을\n"
     ]
    }
   ],
   "source": [
    "# IT/과학 뉴스\n",
    "req_param = {\"sid\": 'economy'}\n",
    "#\n",
    "url = \"https://news.daum.net/{sid}\".format(**req_param)\n",
    "print(url)\n",
    "\n",
    "# 요청 헤더 설정 : 브라우저 정보\n",
    "req_header = {\n",
    "    \"user-agent\": \"Mozilla/5.0 (Windows NT 10.0; Win64; x64) AppleWebKit/537.36 (KHTML, like Gecko) Chrome/135.0.0.0 Safari/537.36\"\n",
    "}\n",
    "\n",
    "# requests 의 get() 함수 호출하기\n",
    "res = requests.get(url, headers=req_header)\n",
    "res.encoding = 'utf-8'\n",
    "# print(res)\n",
    "print(type(res))\n",
    "print(res.status_code)\n",
    "\n",
    "# 응답(response)이 OK 이면\n",
    "if res.ok:\n",
    "    # 응답 (response)에서 text 추출 -source 보기\n",
    "    html = res.text\n",
    "    # print(html)\n",
    "    # BeautifulSoup 객체 생성\n",
    "    soup = BeautifulSoup(html, \"html.parser\")\n",
    "    # print(soup)\n",
    "    # CSS 선택자\n",
    "    # <div class='sa_text'><a></a></div>\n",
    "    ul_tag_list = soup.select(\"ul.list_newsheadline2 li\")\n",
    "    print(type(ul_tag_list),end=\" \")\n",
    "    print(len(ul_tag_list))\n",
    "\n",
    "    # <a> 태그 리스트 순회하기\n",
    "    for li_tag in ul_tag_list:\n",
    "        a_tag = li_tag.find('a')\n",
    "        link = a_tag['href']\n",
    "        \n",
    "        strong_tag = li_tag.select_one('div.cont_thumb strong.tit_txt')\n",
    "        title = strong_tag.text.strip()\n",
    "        print(link, title)\n",
    "    \n",
    "else:\n",
    "    # 응답(response)이 Error 이면 status code 출력\n",
    "    print(f\"Error code = {res.status_code}\")"
   ]
  },
  {
   "cell_type": "code",
   "execution_count": null,
   "id": "17bf07e5",
   "metadata": {},
   "outputs": [],
   "source": []
  },
  {
   "cell_type": "code",
   "execution_count": 3,
   "id": "ef857cb7",
   "metadata": {},
   "outputs": [],
   "source": [
    "import requests\n",
    "import bs4\n",
    "from bs4 import BeautifulSoup\n",
    "\n",
    "section_dict = {\n",
    "    '기후/환경':'climate',\n",
    "    '사회':'society',\n",
    "    '경제':'economy',\n",
    "    '정치':'politics',    \n",
    "    '국제':'world',\n",
    "    '문화':'culture',\n",
    "    '생활':'life',\n",
    "    'IT/과학':'tech',\n",
    "    '인물':'people'}\n",
    "\n",
    "\n",
    "def print_news(section_name):\n",
    "    # IT/과학 뉴스\n",
    "    print('print_news(\\'{}\\')'.format(section_name))\n",
    "    section = section_dict.get(section_name)\n",
    "    # req_param = section_name\n",
    "    if section is None:\n",
    "        print('요청하신 Key가 없습니다.')\n",
    "    else:\n",
    "        url = \"https://news.daum.net/{}\".format(section)\n",
    "        print(f\"=====> {url} {section_name} 뉴스 <=====\")\n",
    "        \n",
    "    \n",
    "\n",
    "    # 요청 헤더 설정 : 브라우저 정보\n",
    "    req_header = {\n",
    "        \"user-agent\": \"Mozilla/5.0 (Windows NT 10.0; Win64; x64) AppleWebKit/537.36 (KHTML, like Gecko) Chrome/135.0.0.0 Safari/537.36\"\n",
    "    }\n",
    "\n",
    "    # requests 의 get() 함수 호출하기\n",
    "    res = requests.get(url, headers=req_header)\n",
    "    res.encoding = \"utf-8\"\n",
    "    # print(res)\n",
    "    # print(type(res))\n",
    "    # print(res.status_code)\n",
    "\n",
    "    # 응답(response)이 OK 이면\n",
    "    if res.ok:\n",
    "        # 응답 (response)에서 text 추출 -source 보기\n",
    "        html = res.text\n",
    "        # print(html)\n",
    "        # BeautifulSoup 객체 생성\n",
    "        soup = BeautifulSoup(html, \"html.parser\")\n",
    "        # print(soup)\n",
    "        # CSS 선택자\n",
    "        # <div class='sa_text'><a></a></div>\n",
    "\n",
    "        # print(soup.select(\"div.sa_text a[href*='mnews/article']\"))\n",
    "\n",
    "        # <a> 태그 리스트 순회하기\n",
    "        for li_tag in soup.select(\"ul.list_newsheadline2 li\"):\n",
    "            a_tag = li_tag.find(\"a\")\n",
    "            link = a_tag[\"href\"]\n",
    "\n",
    "            strong_tag = li_tag.select_one(\"div.cont_thumb strong.tit_txt\")\n",
    "            title = strong_tag.text.strip()\n",
    "            print(link, title)\n",
    "            \n",
    "        print(\"\")\n",
    "\n",
    "    else:\n",
    "        # 응답(response)이 Error 이면 status code 출력\n",
    "        print(f\"Error code = {res.status_code}\")\n"
   ]
  },
  {
   "cell_type": "code",
   "execution_count": 4,
   "id": "5fa8318a",
   "metadata": {},
   "outputs": [
    {
     "name": "stdout",
     "output_type": "stream",
     "text": [
      "print_news('경제')\n",
      "=====> https://news.daum.net/economy 경제 뉴스 <=====\n",
      "https://v.daum.net/v/20250409131311156 대미 수출품 25% 관세 부과 시작...이 시각 수출 현장\n",
      "https://v.daum.net/v/20250409125903840 천안시 '인구 변화 대응', 출생·양육~미래 산업 육성…인구 유입 정책 추진\n",
      "https://v.daum.net/v/20250409122036180 정부, 美에 LNG 수입·조선업 협력·알래스카 투자 제안…트럼프  “Great Call”\n",
      "https://v.daum.net/v/20250409120018573 그래도 꾸준한 프랜차이즈…재작년 매출액 소상공인 1.75배\n",
      "https://v.daum.net/v/20250409120009533 3월 은행 가계대출 1.4조↑ \"토허제發 주택거래 급증은 2분기 영향\"\n",
      "https://v.daum.net/v/20250409114312833 高관세·高환율 쓰나미…희비 엇갈린 산업계\n",
      "https://v.daum.net/v/20250409113001204 美·日은 '죽은 원전'도 되살린 판에…한국은 2년간 뭐했나 [김리안의 에네르기파WAR]\n",
      "https://v.daum.net/v/20250409112842145 취업자 석달째 늘었지만 청년·건설 '고용한파'…관세조치에 더 암울(종합2보)\n",
      "https://v.daum.net/v/20250409111613474 \"아이폰 곧 300만원\" 트럼프, 중국 잡으려다 시총 1위 애플 잡네\n",
      "\n",
      "print_news('사회')\n",
      "=====> https://news.daum.net/society 사회 뉴스 <=====\n",
      "https://v.daum.net/v/20250409130925031 “닭뼈 버렸다가 10만원”…종량제 봉투 ‘파파라치’ 괴담, 진실은\n",
      "https://v.daum.net/v/20250409123807559 민주주의 취약하면 파시즘이 온다[새 책]\n",
      "https://v.daum.net/v/20250409121612104 '포트트릭' 몰아친 日 축구 국가대표, 가수 김정민 아들이었다\n",
      "https://v.daum.net/v/20250409120605878 \"숲가꾸기-임도 현장일수록 산불 피해 극심\"\n",
      "https://v.daum.net/v/20250409115100177 “과일로 간신히 연명합니다”…원화값 폭락에 유학생들 ‘멘붕’\n",
      "https://v.daum.net/v/20250409114514933 “폭력 등 한국 극단주의 행동, 조기대선에 더 심화될 우려”\n",
      "https://v.daum.net/v/20250409113111280 \"65세가 노인? 요즘은 70∼74세가 진짜 노인…정년 연장해야\"\n",
      "https://v.daum.net/v/20250409112842145 취업자 석달째 늘었지만 청년·건설 '고용한파'…관세조치에 더 암울(종합2보)\n",
      "https://v.daum.net/v/20250409112528988 하루 10분 아이와 깊은 대화…학교생활, 학습태도가 좋아집니다\n",
      "\n"
     ]
    }
   ],
   "source": [
    "print_news('경제')\n",
    "print_news('사회')"
   ]
  }
 ],
 "metadata": {
  "kernelspec": {
   "display_name": "base",
   "language": "python",
   "name": "python3"
  },
  "language_info": {
   "codemirror_mode": {
    "name": "ipython",
    "version": 3
   },
   "file_extension": ".py",
   "mimetype": "text/x-python",
   "name": "python",
   "nbconvert_exporter": "python",
   "pygments_lexer": "ipython3",
   "version": "3.12.7"
  }
 },
 "nbformat": 4,
 "nbformat_minor": 5
}
