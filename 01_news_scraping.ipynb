{
 "cells": [
  {
   "cell_type": "code",
   "execution_count": 2,
   "id": "10983580",
   "metadata": {},
   "outputs": [
    {
     "name": "stdout",
     "output_type": "stream",
     "text": [
      "Name: requests\n",
      "Version: 2.32.3\n",
      "Summary: Python HTTP for Humans.\n",
      "Home-page: https://requests.readthedocs.io\n",
      "Author: Kenneth Reitz\n",
      "Author-email: me@kennethreitz.org\n",
      "License: Apache-2.0\n",
      "Location: c:\\Users\\user\\anaconda3\\Lib\\site-packages\n",
      "Requires: certifi, charset-normalizer, idna, urllib3\n",
      "Required-by: anaconda-catalogs, anaconda-client, anaconda-cloud-auth, anaconda-project, conda, conda-build, conda-repo-cli, conda_package_streaming, cookiecutter, datashader, jupyterlab_server, panel, PyGithub, requests-file, requests-toolbelt, Sphinx, streamlit, tldextract\n",
      "Note: you may need to restart the kernel to use updated packages.\n"
     ]
    }
   ],
   "source": [
    "%pip show requests"
   ]
  },
  {
   "cell_type": "code",
   "execution_count": 3,
   "id": "415fba44",
   "metadata": {},
   "outputs": [
    {
     "name": "stdout",
     "output_type": "stream",
     "text": [
      "Name: beautifulsoup4\n",
      "Version: 4.12.3\n",
      "Summary: Screen-scraping library\n",
      "Home-page: https://www.crummy.com/software/BeautifulSoup/bs4/\n",
      "Author: \n",
      "Author-email: Leonard Richardson <leonardr@segfault.org>\n",
      "License: MIT License\n",
      "Location: c:\\Users\\user\\anaconda3\\Lib\\site-packages\n",
      "Requires: soupsieve\n",
      "Required-by: conda-build, nbconvert\n",
      "Note: you may need to restart the kernel to use updated packages.\n"
     ]
    }
   ],
   "source": [
    "%pip show beautifulsoup4"
   ]
  },
  {
   "cell_type": "code",
   "execution_count": 4,
   "id": "9341d2cc",
   "metadata": {},
   "outputs": [],
   "source": [
    "import requests\n",
    "import bs4\n",
    "from bs4 import BeautifulSoup\n"
   ]
  },
  {
   "cell_type": "code",
   "execution_count": 5,
   "id": "845c7cfd",
   "metadata": {},
   "outputs": [
    {
     "name": "stdout",
     "output_type": "stream",
     "text": [
      "requests 버전2.32.3\n",
      "beautifulsoup4 버전4.12.3\n"
     ]
    }
   ],
   "source": [
    "print(f'requests 버전{requests.__version__}')\n",
    "print(f'beautifulsoup4 버전{bs4.__version__}')"
   ]
  },
  {
   "cell_type": "code",
   "execution_count": 42,
   "id": "8fa59e09",
   "metadata": {},
   "outputs": [
    {
     "name": "stdout",
     "output_type": "stream",
     "text": [
      "https://news.daum.net/economy\n",
      "<class 'requests.models.Response'>\n",
      "200\n",
      "<class 'bs4.element.ResultSet'> 9\n",
      "https://v.daum.net/v/20250408205853462 가성비로 무장한 단체, 다시 제주로 간다” 수학여행부터 대만 인센티브까지.. ‘단체관광’이 살리는 제주\n",
      "https://v.daum.net/v/20250408204335126 부동산 경기 활성화와 가계 부채 억제 사이, 새 정부 선택은?[정준호의 부동산과 사회경제]\n",
      "https://v.daum.net/v/20250408184905360 ‘관세 직격탄’ 애플 주가 19% ‘뚝’… 갈수록 커지는 ‘T공포’ [관세전쟁 후폭풍]\n",
      "https://v.daum.net/v/20250408183514025 미·중 치킨게임…원화값 1473원대 추락, 글로벌 금융위기 후 최저\n",
      "https://v.daum.net/v/20250408175343664 美·中 관세 폭탄 돌리기…‘새우등’ 한국 경제 불안감 더 커졌다\n",
      "https://v.daum.net/v/20250408175111585 나랏빚 1175조 '역대 최대'…추경 재원 바닥\n",
      "https://v.daum.net/v/20250408174344325 메디젠휴먼케어, \"23andMe 파산..한국 유전체 산업의 위기 아닌 기회\"\n",
      "https://v.daum.net/v/20250408173713085 칩 확보서 데이터센터까지···전 산업에 'AI 고속도로' 깔아야\n",
      "https://v.daum.net/v/20250408173626057 77년 묵은 정부조직, 데이터 중심 대수술···'AI 부총리' 도입을\n"
     ]
    }
   ],
   "source": [
    "# IT/과학 뉴스\n",
    "req_param = {\"sid\": 'economy'}\n",
    "#\n",
    "url = \"https://news.daum.net/{sid}\".format(**req_param)\n",
    "print(url)\n",
    "\n",
    "# 요청 헤더 설정 : 브라우저 정보\n",
    "req_header = {\n",
    "    \"user-agent\": \"Mozilla/5.0 (Windows NT 10.0; Win64; x64) AppleWebKit/537.36 (KHTML, like Gecko) Chrome/135.0.0.0 Safari/537.36\"\n",
    "}\n",
    "\n",
    "# requests 의 get() 함수 호출하기\n",
    "res = requests.get(url, headers=req_header)\n",
    "res.encoding = 'utf-8'\n",
    "# print(res)\n",
    "print(type(res))\n",
    "print(res.status_code)\n",
    "\n",
    "# 응답(response)이 OK 이면\n",
    "if res.ok:\n",
    "    # 응답 (response)에서 text 추출 -source 보기\n",
    "    html = res.text\n",
    "    # print(html)\n",
    "    # BeautifulSoup 객체 생성\n",
    "    soup = BeautifulSoup(html, \"html.parser\")\n",
    "    # print(soup)\n",
    "    # CSS 선택자\n",
    "    # <div class='sa_text'><a></a></div>\n",
    "    ul_tag_list = soup.select(\"ul.list_newsheadline2 li\")\n",
    "    print(type(ul_tag_list),end=\" \")\n",
    "    print(len(ul_tag_list))\n",
    "\n",
    "    # <a> 태그 리스트 순회하기\n",
    "    for li_tag in ul_tag_list:\n",
    "        a_tag = li_tag.find('a')\n",
    "        link = a_tag['href']\n",
    "        \n",
    "        strong_tag = li_tag.select_one('div.cont_thumb strong.tit_txt')\n",
    "        title = strong_tag.text.strip()\n",
    "        print(link, title)\n",
    "    \n",
    "else:\n",
    "    # 응답(response)이 Error 이면 status code 출력\n",
    "    print(f\"Error code = {res.status_code}\")"
   ]
  },
  {
   "cell_type": "code",
   "execution_count": 34,
   "id": "ef857cb7",
   "metadata": {},
   "outputs": [],
   "source": [
    "import requests\n",
    "import bs4\n",
    "from bs4 import BeautifulSoup\n",
    "\n",
    "section_dict = {\n",
    "    '기후/환경':'climate',\n",
    "    '사회':'society',\n",
    "    '경제':'economy',\n",
    "    '정치':'politics',    \n",
    "    '국재':'world',\n",
    "    '문화':'culture',\n",
    "    '생활':'life',\n",
    "    'IT/과학':'tech',\n",
    "    '인물':'people'}\n",
    "\n",
    "\n",
    "def print_news(section_name):\n",
    "    # IT/과학 뉴스\n",
    "    print('print_news(\\'{}\\')'.format(section_name))\n",
    "    section = section_dict[section_name]\n",
    "    # req_param = section_name\n",
    "    #\n",
    "    url = \"https://news.daum.net/{}\".format(section)\n",
    "    print(f\"=====> {url} {section_name} 뉴스 <=====\")\n",
    "\n",
    "    # 요청 헤더 설정 : 브라우저 정보\n",
    "    req_header = {\n",
    "        \"user-agent\": \"Mozilla/5.0 (Windows NT 10.0; Win64; x64) AppleWebKit/537.36 (KHTML, like Gecko) Chrome/135.0.0.0 Safari/537.36\"\n",
    "    }\n",
    "\n",
    "    # requests 의 get() 함수 호출하기\n",
    "    res = requests.get(url, headers=req_header)\n",
    "    res.encoding = \"utf-8\"\n",
    "    # print(res)\n",
    "    # print(type(res))\n",
    "    # print(res.status_code)\n",
    "\n",
    "    # 응답(response)이 OK 이면\n",
    "    if res.ok:\n",
    "        # 응답 (response)에서 text 추출 -source 보기\n",
    "        html = res.text\n",
    "        # print(html)\n",
    "        # BeautifulSoup 객체 생성\n",
    "        soup = BeautifulSoup(html, \"html.parser\")\n",
    "        # print(soup)\n",
    "        # CSS 선택자\n",
    "        # <div class='sa_text'><a></a></div>\n",
    "\n",
    "        # print(soup.select(\"div.sa_text a[href*='mnews/article']\"))\n",
    "\n",
    "        # <a> 태그 리스트 순회하기\n",
    "        for li_tag in soup.select(\"ul.list_newsheadline2 li\"):\n",
    "            a_tag = li_tag.find(\"a\")\n",
    "            link = a_tag[\"href\"]\n",
    "\n",
    "            strong_tag = li_tag.select_one(\"div.cont_thumb strong.tit_txt\")\n",
    "            title = strong_tag.text.strip()\n",
    "            print(link, title)\n",
    "            \n",
    "        print(\"\")\n",
    "\n",
    "    else:\n",
    "        # 응답(response)이 Error 이면 status code 출력\n",
    "        print(f\"Error code = {res.status_code}\")\n"
   ]
  },
  {
   "cell_type": "code",
   "execution_count": 35,
   "id": "5fa8318a",
   "metadata": {},
   "outputs": [
    {
     "name": "stdout",
     "output_type": "stream",
     "text": [
      "print_news('경제')\n",
      "=====> https://news.daum.net/economy 경제 뉴스 <=====\n",
      "https://v.daum.net/v/20250408204335126 부동산 경기 활성화와 가계 부채 억제 사이, 새 정부 선택은?[정준호의 부동산과 사회경제]\n",
      "https://v.daum.net/v/20250408184905360 ‘관세 직격탄’ 애플 주가 19% ‘뚝’… 갈수록 커지는 ‘T공포’ [관세전쟁 후폭풍]\n",
      "https://v.daum.net/v/20250408183514025 미·중 치킨게임…원화값 1473원대 추락, 글로벌 금융위기 후 최저\n",
      "https://v.daum.net/v/20250408175343664 美·中 관세 폭탄 돌리기…‘새우등’ 한국 경제 불안감 더 커졌다\n",
      "https://v.daum.net/v/20250408175111585 나랏빚 1175조 '역대 최대'…추경 재원 바닥\n",
      "https://v.daum.net/v/20250408174344325 메디젠휴먼케어, \"23andMe 파산..한국 유전체 산업의 위기 아닌 기회\"\n",
      "https://v.daum.net/v/20250408173713085 칩 확보서 데이터센터까지···전 산업에 'AI 고속도로' 깔아야\n",
      "https://v.daum.net/v/20250408173626057 77년 묵은 정부조직, 데이터 중심 대수술···'AI 부총리' 도입을\n",
      "https://v.daum.net/v/20250408161553109 트럼프발 주가폭락에 동아 \"경제적 핵전쟁\" 조선 \"금융위기 후 최악\"\n",
      "\n",
      "print_news('사회')\n",
      "=====> https://news.daum.net/society 사회 뉴스 <=====\n",
      "https://v.daum.net/v/20250408204212113 [단독] 가전 계약 따로, 배송 따로…100명 당한 신종 사기\n",
      "https://v.daum.net/v/20250408204010065 [단독] 서울 '땅 꺼짐' 고위험지역 50곳 더 있다‥우리 동네는 어디?\n",
      "https://v.daum.net/v/20250408201012346 '여야 합의' 이태원참사특조위도 제자리걸음‥사무처장 임명 계속 미뤄\n",
      "https://v.daum.net/v/20250408200507234 호남동행? 서진정책?.. 스스로 고립된 '국민의힘'\n",
      "https://v.daum.net/v/20250408200117165 무속인? 고문? 정치브로커?…'건진법사' 그의 정체는 대체\n",
      "https://v.daum.net/v/20250408195302896 전자발찌 효과로 성폭력 재범률 감소...대상자 느는데 인력은 여전히 부족\n",
      "https://v.daum.net/v/20250408193850514 전기요금 더 깎아달라는 교육감들…“기후 대응 역행” 비판도\n",
      "https://v.daum.net/v/20250408193534409 [친절한K] 가축분뇨 유출에도 영업, 왜?…지하수 오염 빨간불\n",
      "https://v.daum.net/v/20250408193014311 [단독] 제목 “제초작업”…삼청교육 최초 계획 추정 문건 나와\n",
      "\n"
     ]
    }
   ],
   "source": [
    "print_news('경제')\n",
    "print_news('사회')"
   ]
  }
 ],
 "metadata": {
  "kernelspec": {
   "display_name": "base",
   "language": "python",
   "name": "python3"
  },
  "language_info": {
   "codemirror_mode": {
    "name": "ipython",
    "version": 3
   },
   "file_extension": ".py",
   "mimetype": "text/x-python",
   "name": "python",
   "nbconvert_exporter": "python",
   "pygments_lexer": "ipython3",
   "version": "3.12.7"
  }
 },
 "nbformat": 4,
 "nbformat_minor": 5
}
