{
 "cells": [
  {
   "cell_type": "code",
   "execution_count": 9,
   "id": "ac69cd32",
   "metadata": {},
   "outputs": [],
   "source": [
    "import requests\n",
    "from bs4 import BeautifulSoup\n",
    "import os\n",
    "\n",
    "def download_one_episode(title,no,url):\n",
    "    req_header = {\n",
    "        'referer': url\n",
    "    }\n",
    "    res = requests.get(url)\n",
    "    \n",
    "    if res.ok:\n",
    "        # jpg 파일의 절대경로 url를 찾기\n",
    "        soup = BeautifulSoup(res.text, 'html.parser')\n",
    "        img_tags = soup.select(\"img[src*='IMAG01']\")\n",
    "        # img src 를 저장할 list 선언\n",
    "        img_url_list = list() # ['aa.jpg','aa1.jpg']\n",
    "        \n",
    "        \n",
    "        for img_tag in img_tags:\n",
    "            #print(type(img_tag), img_tag.name, img_tag)\n",
    "            img_src = img_tag['src']\n",
    "            img_url_list.append(img_src)\n",
    "        \n",
    "        #img 디렉토리가 없으면 생성하기   \n",
    "        imgdir_name = os.path.join(\"img\", title, str(no))\n",
    "        os.makedirs(imgdir_name, exist_ok=True)\n",
    "        \n",
    "        #os.path.join(dir,file) 함수 사용하여 디렉토리명과 파일명 합치기\n",
    "        for img_url in img_url_list:\n",
    "            res = requests.get(img_url, headers=req_header)\n",
    "            if res.ok:        \n",
    "                # binary data 가져오기\n",
    "                img_data = res.content\n",
    "                # img/xxx.jpg 디렉토리명과 파일명을 join\n",
    "                dir_name = os.path.join(imgdir_name, os.path.basename(img_url))\n",
    "                # binday data를 file에 write하기\n",
    "                with open(dir_name,'wb') as file:\n",
    "                    print(f'writing to {dir_name}({len(img_data):,} bytes)')\n",
    "                    file.write(img_data)\n",
    "            else:\n",
    "                print(f'Error Code = {res.status_code}')      \n",
    "                \n",
    "    else:\n",
    "        print(f'Error Code = {res.status_code}')"
   ]
  },
  {
   "cell_type": "code",
   "execution_count": 10,
   "id": "e40e0d9f",
   "metadata": {},
   "outputs": [
    {
     "name": "stdout",
     "output_type": "stream",
     "text": [
      "writing to img\\낢이사는이야기\\48\\20250310103947_792197c569e377c7f369fe9d6f2bd961_IMAG01_1.jpg(166,289 bytes)\n",
      "writing to img\\낢이사는이야기\\48\\20250310103947_792197c569e377c7f369fe9d6f2bd961_IMAG01_2.jpg(117,581 bytes)\n",
      "writing to img\\낢이사는이야기\\48\\20250310103947_792197c569e377c7f369fe9d6f2bd961_IMAG01_3.jpg(175,647 bytes)\n",
      "writing to img\\낢이사는이야기\\48\\20250310103947_792197c569e377c7f369fe9d6f2bd961_IMAG01_4.jpg(140,295 bytes)\n",
      "writing to img\\낢이사는이야기\\48\\20250310103947_792197c569e377c7f369fe9d6f2bd961_IMAG01_5.jpg(115,277 bytes)\n",
      "writing to img\\낢이사는이야기\\48\\20250310103947_792197c569e377c7f369fe9d6f2bd961_IMAG01_6.jpg(86,840 bytes)\n",
      "writing to img\\낢이사는이야기\\48\\20250310103947_792197c569e377c7f369fe9d6f2bd961_IMAG01_7.jpg(151,280 bytes)\n",
      "writing to img\\낢이사는이야기\\48\\20250310103947_792197c569e377c7f369fe9d6f2bd961_IMAG01_8.jpg(146,198 bytes)\n",
      "writing to img\\낢이사는이야기\\48\\20250310103947_792197c569e377c7f369fe9d6f2bd961_IMAG01_9.jpg(86,460 bytes)\n",
      "writing to img\\낢이사는이야기\\48\\20250310103947_792197c569e377c7f369fe9d6f2bd961_IMAG01_10.jpg(152,631 bytes)\n",
      "writing to img\\낢이사는이야기\\48\\20250310103947_792197c569e377c7f369fe9d6f2bd961_IMAG01_11.jpg(236,174 bytes)\n",
      "writing to img\\낢이사는이야기\\48\\20250310103947_792197c569e377c7f369fe9d6f2bd961_IMAG01_12.jpg(218,403 bytes)\n",
      "writing to img\\낢이사는이야기\\48\\20250310103947_792197c569e377c7f369fe9d6f2bd961_IMAG01_13.jpg(126,874 bytes)\n",
      "writing to img\\낢이사는이야기\\48\\20250310103947_792197c569e377c7f369fe9d6f2bd961_IMAG01_14.jpg(169,822 bytes)\n",
      "writing to img\\낢이사는이야기\\48\\20250310103947_792197c569e377c7f369fe9d6f2bd961_IMAG01_15.jpg(100,097 bytes)\n",
      "writing to img\\낢이사는이야기\\48\\20250310103947_792197c569e377c7f369fe9d6f2bd961_IMAG01_16.jpg(138,348 bytes)\n",
      "writing to img\\낢이사는이야기\\48\\20250310103947_792197c569e377c7f369fe9d6f2bd961_IMAG01_17.jpg(136,580 bytes)\n",
      "writing to img\\낢이사는이야기\\48\\20250310103947_792197c569e377c7f369fe9d6f2bd961_IMAG01_18.jpg(127,154 bytes)\n",
      "writing to img\\낢이사는이야기\\48\\20250310103947_792197c569e377c7f369fe9d6f2bd961_IMAG01_19.jpg(155,183 bytes)\n",
      "writing to img\\낢이사는이야기\\48\\20250310103947_792197c569e377c7f369fe9d6f2bd961_IMAG01_20.jpg(175,333 bytes)\n",
      "writing to img\\낢이사는이야기\\48\\20250310103947_792197c569e377c7f369fe9d6f2bd961_IMAG01_21.jpg(108,840 bytes)\n",
      "writing to img\\낢이사는이야기\\48\\20250310103947_792197c569e377c7f369fe9d6f2bd961_IMAG01_22.jpg(107,072 bytes)\n",
      "writing to img\\낢이사는이야기\\48\\20250310103947_792197c569e377c7f369fe9d6f2bd961_IMAG01_23.jpg(9,392 bytes)\n"
     ]
    }
   ],
   "source": [
    "download_one_episode('낢이사는이야기',48,'https://comic.naver.com/webtoon/detail?titleId=833255&no=49&week=tue')"
   ]
  }
 ],
 "metadata": {
  "kernelspec": {
   "display_name": "base",
   "language": "python",
   "name": "python3"
  },
  "language_info": {
   "codemirror_mode": {
    "name": "ipython",
    "version": 3
   },
   "file_extension": ".py",
   "mimetype": "text/x-python",
   "name": "python",
   "nbconvert_exporter": "python",
   "pygments_lexer": "ipython3",
   "version": "3.12.7"
  }
 },
 "nbformat": 4,
 "nbformat_minor": 5
}
